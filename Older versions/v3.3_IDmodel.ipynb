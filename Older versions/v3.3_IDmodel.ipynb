{
 "cells": [
  {
   "cell_type": "code",
   "execution_count": 1,
   "metadata": {},
   "outputs": [
    {
     "name": "stdout",
     "output_type": "stream",
     "text": [
      "Number of columns before dropped columns: 1569\n",
      "Number of columns after dropped columns: 205\n"
     ]
    },
    {
     "data": {
      "image/png": "[encoded data removed]",
      "text/plain": [
       "<Figure size 432x288 with 1 Axes>"
      ]
     },
     "metadata": {
      "needs_background": "light"
     },
     "output_type": "display_data"
    },
    {
     "data": {
      "image/png": "[encoded data removed]",
      "text/plain": [
       "<Figure size 432x288 with 1 Axes>"
      ]
     },
     "metadata": {
      "needs_background": "light"
     },
     "output_type": "display_data"
    },
    {
     "data": {
      "image/png": "[encoded data removed]",
      "text/plain": [
       "<Figure size 432x288 with 1 Axes>"
      ]
     },
     "metadata": {
      "needs_background": "light"
     },
     "output_type": "display_data"
    }
   ],
   "source": [
    "# LOG OF CHANGES\n",
    "# In feite v3.0 met cortisol weer weggehaald\n",
    "\n",
    "import os\n",
    "import sys\n",
    "clear = lambda: os.system('cls')  # On Windows System\n",
    "clear()\n",
    "sys.path.insert(0, r'C:\\Users\\linda\\Dropbox\\TM\\Stagedocumenten\\Q2 2021-2022\\IDA-model-main\\IDA-model\\Functions')\n",
    "# Import the right data packages\n",
    "import pandas as pd\n",
    "import numpy as np\n",
    "import seaborn as sns\n",
    "from v1_baseline import baseline\n",
    "from v1_drop_data import drop_data\n",
    "from v1_feature_selection import find_sign_features\n",
    "from v1_impute_data import impute_data\n",
    "from v1_load_data import load_data\n",
    "from v1_mean_ROC_curves import mean_ROC_curves\n",
    "from v1_pipeline_model import pipeline_model\n",
    "from v1_scale_data import scale_data\n",
    "from v1_stratify import stratify\n",
    "from sklearn.impute import KNNImputer\n",
    "from sklearn import preprocessing\n",
    "from sklearn.ensemble import RandomForestClassifier\n",
    "from sklearn import model_selection\n",
    "from sklearn import metrics\n",
    "from sklearn.inspection import permutation_importance\n",
    "from sklearn.svm import SVC\n",
    "from sklearn.metrics import auc\n",
    "from sklearn.metrics import confusion_matrix\n",
    "from sklearn.model_selection import train_test_split\n",
    "from sklearn.linear_model import BayesianRidge\n",
    "import matplotlib.pyplot as plt\n",
    "from scipy.stats import chi2_contingency\n",
    "from scipy.stats import mannwhitneyu\n",
    "from scipy import stats\n",
    "from statistics import mean\n",
    "from statistics import stdev\n",
    "from mlxtend.feature_selection import SequentialFeatureSelector as sfs\n",
    "\n",
    "# Load and merge data. Define paths and columns wanted from Excel files\n",
    "path_data = 'C:/Users/linda/Dropbox/TM/Stagedocumenten/Q2 2021-2022/IDA-model-main/model/v6_dataset.xlsx'\n",
    "columns_data = \"A:BBB\"\n",
    "path_labels = 'C:/Users/linda/Dropbox/TM/Stagedocumenten/Q2 2021-2022/IDA-model-main/model/IDA_aangevuld.xls'\n",
    "columns_labels = \"A:B\"\n",
    "path_phecodes = 'C:/Users/linda/Dropbox/TM/Stagedocumenten/Q2 2021-2022/IDA-model-main/model/phecodes_filled_binary.xlsx'\n",
    "columns_phecodes = \"A:R\"\n",
    "path_specialisms = 'C:/Users/linda/Dropbox/TM/Stagedocumenten/Q2 2021-2022/IDA-model-main/model/Letters_DBC_combined.xlsx'\n",
    "columns_specialisms = \"A:BW\"\n",
    "path_decimals = 'C:/Users/linda/Dropbox/TM/Stagedocumenten/Q2 2021-2022/IDA-model-main/model/afronden_features.xlsx'\n",
    "columns_decimals = 'A:HI'\n",
    "path_baseline = 'C:/Users/linda/Dropbox/TM/Stagedocumenten/Q2 2021-2022/IDA-model-main/model/baseline.xlsx'\n",
    "columns_baseline = 'A:C'\n",
    "path_extra = 'C:/Users/linda/Dropbox/TM/Stagedocumenten/Q2 2021-2022/IDA-model-main/model/v3_extra.xlsx'\n",
    "columns_extra = 'A:D'\n",
    "path_brieven = 'C:/Users/linda/Dropbox/TM/Stagedocumenten/Q2 2021-2022/IDA-model-main/model/v2_brieven.xlsx'\n",
    "columns_brieven = 'A:BR'\n",
    "path_syndromen = 'C:/Users/linda/Dropbox/TM/Stagedocumenten/Q2 2021-2022/IDA-model-main/model/v1_syndromen.xlsx'\n",
    "columns_syndromen = 'A:B'\n",
    "\n",
    "# df data contains most of the features needed to build the model\n",
    "df_data = load_data(path_data, columns_data)\n",
    "# df labels contains the label ID/ no ID\n",
    "df_labels = load_data(path_labels, columns_labels)\n",
    "# df phecodes contains the data about the diagnoses a patient has, categorized into groups\n",
    "df_phecodes = load_data(path_phecodes, columns_phecodes)\n",
    "# df spec contains the data about what specialisms a patient visited\n",
    "df_spec = load_data(path_specialisms, columns_specialisms)\n",
    "# df decimal contains the amount of decimals for rounding the different features\n",
    "df_decimal = load_data(path_decimals, columns_decimals)\n",
    "# df baseline contains baseline characteristics age and gender\n",
    "df_baseline = load_data(path_baseline, columns_baseline)\n",
    "# df_extra contains extra characteristics like BMI and opnames\n",
    "df_extra = load_data(path_extra, columns_extra)\n",
    "# df_brieven contains the letters sent from specialisms\n",
    "df_brieven = load_data(path_brieven,columns_brieven)\n",
    "# df_syndromen contains the PIDs and syndrome code\n",
    "df_syndromen = load_data(path_syndromen,columns_syndromen)\n",
    "\n",
    "# Merge dataframes\n",
    "df_hix_spec = df_data.merge(df_spec, on='Pt_no', how='outer')\n",
    "df_hix_phecodes = df_hix_spec.merge(df_phecodes, on='Pt_no', how='outer')\n",
    "# In df hix, all features are merged inside one dataframe. The specialisms, phecodes and labels are added\n",
    "df_hix = df_hix_phecodes.merge(df_labels, on='Pt_no', how='inner')\n",
    "# Now add all the extra features\n",
    "df_ex = df_hix.merge(df_extra, on='Pt_no',how = 'inner')\n",
    "# Now add the letters from the specialisms\n",
    "df_all = df_ex.merge(df_brieven, on = 'Pt_no', how = 'inner')\n",
    "print('Number of columns before dropped columns: ' + str(len(df_all.columns)))\n",
    "\n",
    "# Defining thresholds for dropping rows and columns with missing data (threshold of amount of non-NA values required)\n",
    "threshold_column = 0.6\n",
    "threshold_row = 0.5\n",
    "\n",
    "# Drop columns and rows with too many NaN's\n",
    "df_dropped = drop_data(threshold_column, threshold_row, df_all)\n",
    "print('Number of columns after dropped columns: ' + str(len(df_dropped.columns)))\n",
    "\n",
    "# Balance set by picking random samples from no ID group # hierrr\n",
    "df_ID_1 = df_dropped.loc[df_dropped['Label'] == 1.0]\n",
    "df_ID_0_all = df_dropped.loc[df_dropped['Label'] == 0.0]\n",
    "\n",
    "# To perform stratified random sampling, the gender of the ID group is checked\n",
    "# Check baseline characteristics of subset\n",
    "# Merge the dataframes of ID and no ID with the baseline characteristics in df baseline (age and gender)\n",
    "# Exploratory data analysis\n",
    "df_0_all_baseline = df_ID_0_all.merge(df_baseline, on='Pt_no', how='inner')\n",
    "df_1_baseline = df_ID_1.merge(df_baseline, on='Pt_no', how='inner')\n",
    "#characteristics = baseline(df_0_all_baseline, df_1_baseline)\n",
    "\n",
    "# Stratify the data\n",
    "df_control = stratify(df_0_all_baseline, df_1_baseline)\n",
    "\n",
    "# Nou moeten de dataframes van no ID en ID weer bij elkaar \n",
    "df_comb = pd.concat([df_1_baseline,df_control])\n",
    "df_comb = df_comb.drop(['Leeftijd', 'Geslacht'], axis = 1 )\n",
    "\n",
    "# Defining empty lists needed later\n",
    "tprs_RF_all = []\n",
    "aucs_RF_all = []\n",
    "auc_RF_all = []\n",
    "spec_RF_all = []\n",
    "sens_RF_all = []\n",
    "accuracy_RF_all = []\n",
    "tprs_RF_fin = []\n",
    "aucs_RF_fin = []\n",
    "auc_RF_fin = []\n",
    "spec_RF_fin = [] \n",
    "sens_RF_fin = []\n",
    "accuracy_RF_fin = []\n",
    "tprs_SVM_fin = []\n",
    "aucs_SVM_fin = [] \n",
    "auc_SVM_fin = []\n",
    "spec_SVM_fin = [] \n",
    "sens_SVM_fin = []\n",
    "accuracy_SVM_fin = []\n",
    "accuracy_SVM_sign = []\n",
    "perm_importances_dfs = []\n",
    "sign_features_dfs = []\n",
    "\n",
    "# Define the necessary figures\n",
    "_, axis_RF_all = plt.subplots()\n",
    "_, axis_RF_fin = plt.subplots()\n",
    "_, axis_SVM_fin = plt.subplots()\n",
    "\n",
    "# Define data and labels\n",
    "labels = df_comb['Label']\n",
    "data = df_comb.drop(['Pt_no', 'Label'], axis=1)\n",
    "\n",
    "# Define ordinal, binary and continuous keys\n",
    "ordinal_keys = ['Anti-epileptics', 'Psychofarmaca', 'Antacids', 'Anti-hypertensives', 'VitB12', 'Iron-tablets', 'Specialisms_hospitalization', 'Radiologic_investigations', 'Total_amount_ICD10s']\n",
    "binary_keys = list(df_spec.keys()) + list(df_phecodes.keys()) + list(df_brieven.keys())\n",
    "binary_keys.remove('Pt_no')\n",
    "binary_keys.remove('Pt_no')\n",
    "binary_keys.remove('Pt_no')\n",
    "#continuous_keys = ['Length', 'Opnames_spec', 'Beeldvormende_verr', 'HR', 'RRsyst', 'RRdiast', 'Vrij T4', 'Hemolytische index', 'Icterische index', 'Lipemische index', 'TSH', 'Alk.Fosf.', 'ALAT', 'ASAT', 'Calcium', 'CKD-EPI eGFR', 'Glucose/PL', 'Hemoglobine', 'Kalium', 'Kreatinine', 'LDH', 'MCV', 'Natrium', 'RDW', 'Tot. Bilirubine', 'Gamma-GT', 'Ureum', 'BMI']\n",
    "continuous_keys = ['Length', 'Opnames_spec', 'Beeldvormende_verr', 'HR', 'RRsyst', 'RRdiast', 'FSH', 'Vrij T4', 'Hemolytische index', 'Icterische index', 'Lipemische index', 'TSH', 'Alk.Fosf.', 'ALAT', 'Albumine', 'ASAT', 'Calcium', 'CKD-EPI eGFR', 'Glucose/PL', 'Hemoglobine', 'Kalium', 'Kreatinine', 'LDH', 'Leukocyten', 'MCV', 'Natrium', 'RDW', 'Tot. Bilirubine', 'Trombocyten', 'Gamma-GT', '25-OH Vitamine D', 'Ureum', 'LDL-Cholesterol', 'BMI']\n",
    "\n",
    "# Test data splitten uit totale dataset\n",
    "train_data2, test_data2 = train_test_split(df_comb, test_size=0.1, random_state=5)\n",
    "train_data = train_data2.drop(['Pt_no', 'Label'], axis=1)\n",
    "test_data = test_data2.drop(['Pt_no', 'Label'], axis=1)\n",
    "train_label = train_data2['Label']\n",
    "test_label = test_data2['Label']"
   ]
  },
  {
   "cell_type": "code",
   "execution_count": 2,
   "metadata": {},
   "outputs": [
    {
     "data": {
      "image/png": "[encoded data removed]",
      "text/plain": [
       "<Figure size 432x288 with 1 Axes>"
      ]
     },
     "metadata": {
      "needs_background": "light"
     },
     "output_type": "display_data"
    },
    {
     "name": "stdout",
     "output_type": "stream",
     "text": [
      "Syndrome distribution in control group:\n",
      "0.0:168\n",
      "8.0:3\n",
      "62.0:10\n",
      "69.0:32\n",
      "45.0:6\n",
      "43.0:10\n",
      "37.0:2\n",
      "68.0:3\n",
      "67.0:1\n",
      "20.0:1\n",
      "35.0:1\n",
      "50.0:1\n",
      "11.0:5\n",
      "12.0:1\n",
      "25.0:1\n",
      "61.0:1\n",
      "57.0:2\n",
      "22.0:1\n",
      "38.0:1\n",
      "46.0:2\n",
      "31.0:1\n"
     ]
    },
    {
     "data": {
      "image/png": "[encoded data removed]",
      "text/plain": [
       "<Figure size 432x288 with 1 Axes>"
      ]
     },
     "metadata": {
      "needs_background": "light"
     },
     "output_type": "display_data"
    },
    {
     "name": "stdout",
     "output_type": "stream",
     "text": [
      "Syndrome distribution in ID group:\n",
      "51.0:93\n",
      "56.0:1\n",
      "70.0:5\n",
      "62.0:4\n",
      "41.0:1\n",
      "0.0:54\n",
      "7.0:5\n",
      "44.0:1\n",
      "71.0:2\n",
      "1.0:1\n",
      "69.0:14\n",
      "45.0:14\n",
      "43.0:17\n",
      "57.0:1\n",
      "22.0:2\n",
      "50.0:3\n",
      "17.0:3\n",
      "68.0:18\n",
      "16.0:1\n",
      "66.0:1\n",
      "73.0:1\n",
      "54.0:1\n",
      "29.0:1\n",
      "55.0:1\n",
      "13.0:1\n",
      "52.0:1\n",
      "6.0:1\n",
      "8.0:1\n",
      "72.0:1\n",
      "19.0:1\n",
      "28.0:1\n"
     ]
    }
   ],
   "source": [
    "# Syndromen bekijken\n",
    "# nu nog beter plotten en in een functie gooien\n",
    "# Controle groep\n",
    "# eerst even alle missings veranderen naar 0\n",
    "df_syndromen = df_syndromen.fillna(0)\n",
    "\n",
    "syndroom_control = []\n",
    "for pt in df_control['Pt_no']:\n",
    "    slice = df_syndromen.loc[df_syndromen['Pt_no'] == pt]    # Fill dataframe with p-values\n",
    "    syndroom = slice['Syndroom'].item()\n",
    "    syndroom_control.append(syndroom)\n",
    "#print(syndroom_control)\n",
    "plt.hist(syndroom_control, bins = 70)\n",
    "plt.show()\n",
    "# initialize a dictionary to store the frequency of each element\n",
    "control_count = {}\n",
    "for element in syndroom_control:\n",
    "    if element in control_count:\n",
    "        control_count[element] += 1\n",
    "    else:\n",
    "        control_count[element] = 1\n",
    "\n",
    "print(\"Syndrome distribution in control group:\")\n",
    "\n",
    "for key, value in control_count.items():\n",
    "    print(f\"{key}:{value}\")\n",
    "\n",
    "# VB groep\n",
    "\n",
    "syndroom_ID = []\n",
    "for pt in df_1_baseline['Pt_no']:\n",
    "    slice = df_syndromen.loc[df_syndromen['Pt_no'] == pt]    # Fill dataframe with p-values\n",
    "    syndroom = slice['Syndroom'].item()\n",
    "    syndroom_ID.append(syndroom)\n",
    "#print(syndroom_ID)\n",
    "# Verwijder de waarde 999 want daar hebben we toch niets aan\n",
    "syndroom_ID.remove(999.0)\n",
    "plt.hist(syndroom_ID, bins = 70)\n",
    "plt.show()\n",
    "# initialize a dictionary to store the frequency of each element\n",
    "ID_count = {}\n",
    "for element in syndroom_ID:\n",
    "    if element in ID_count:\n",
    "        ID_count[element] += 1\n",
    "    else:\n",
    "        ID_count[element] = 1\n",
    "print(\"Syndrome distribution in ID group:\")\n",
    "for key, value in ID_count.items():\n",
    "    print(f\"{key}:{value}\")"
   ]
  },
  {
   "cell_type": "code",
   "execution_count": 3,
   "metadata": {},
   "outputs": [
    {
     "name": "stdout",
     "output_type": "stream",
     "text": [
      "Number of people after dropped rows: 1094\n",
      "Number of controls after dropped rows: 253\n"
     ]
    }
   ],
   "source": [
    "print('Number of people after dropped rows: ' + str(len(df_dropped.index)))\n",
    "print('Number of controls after dropped rows: ' + str(len(df_control.index)))\n"
   ]
  },
  {
   "cell_type": "code",
   "execution_count": 4,
   "metadata": {},
   "outputs": [],
   "source": [
    "# # # Stukje code om de namen van de gedropte kolommen te kunnen printen\n",
    "# for name in df_all.columns:\n",
    "#    if name not in df_dropped.columns:\n",
    "#        print(name)\n",
    "\n",
    "# # for name in df_dropped.columns:\n",
    "# #     print(name)"
   ]
  },
  {
   "cell_type": "code",
   "execution_count": 5,
   "metadata": {},
   "outputs": [],
   "source": [
    "# Test data splitten uit totale dataset\n",
    "# train_data2, test_data2 = train_test_split(df_comb, test_size=0.1, random_state=25)\n",
    "# train_data = train_data2.drop(['Pt_no', 'Label'], axis=1)\n",
    "# test_data = test_data2.drop(['Pt_no', 'Label'], axis=1)\n",
    "# train_label = train_data2['Label']\n",
    "# test_label = test_data2['Label']\n",
    "\n",
    "# Waarom doen we de preprocessing ook niet gewoon hier"
   ]
  },
  {
   "cell_type": "code",
   "execution_count": 6,
   "metadata": {},
   "outputs": [
    {
     "name": "stdout",
     "output_type": "stream",
     "text": [
      "This is fold 0\n",
      "This is fold 1\n",
      "This is fold 2\n",
      "This is fold 3\n",
      "This is fold 4\n",
      "This is fold 5\n",
      "This is fold 6\n",
      "This is fold 7\n",
      "This is fold 8\n",
      "This is fold 9\n"
     ]
    }
   ],
   "source": [
    "# Define 10-fold stratified cross-validation\n",
    "cv_10fold = model_selection.StratifiedKFold(n_splits=10, shuffle=True, random_state= 4)\n",
    "\n",
    "for i, (train_index, val_index) in enumerate(cv_10fold.split(train_data, train_label)):    # Split the data in a train and validation set in a 10-fold cross-validation\n",
    "    data_train = train_data.iloc[train_index]\n",
    "    label_train = train_label.iloc[train_index]\n",
    "    data_val = train_data.iloc[val_index]\n",
    "    label_val = train_label.iloc[val_index]\n",
    " \n",
    "    # Pre-processing steps\n",
    "    # Impute data, but exclude the BMI in this. Add BMI again after imputation.\n",
    "    impute_train, impute_val = impute_data(data_train, data_val, df_decimal) #imputes data for all columns \n",
    "    # Imputed lentgh and weight, now calculate BMI from that and delete weight again\n",
    "    impute_train['BMI'] = np.round(impute_train['Weight']/((impute_train['Length']/100)**2), decimals=2)\n",
    "    impute_val['BMI'] = np.round(impute_val['Weight']/((impute_val['Length']/100)**2), decimals=2)\n",
    "    impute_train = impute_train.loc[:,impute_train.columns!='Weight']\n",
    "    impute_val = impute_val.loc[:,impute_val.columns!='Weight']\n",
    "\n",
    "    # Find significant features per fold\n",
    "    #sign, sign_features_dfs = find_sign_features(impute_train, label_train, train_index, ordinal_keys, binary_keys, continuous_keys, sign_features_dfs)\n",
    "    sign, sign_features_dfs = find_sign_features(impute_train, label_train, train_index, ordinal_keys, binary_keys, continuous_keys, sign_features_dfs)\n",
    "\n",
    "    # Make new dataframes with the significant features\n",
    "    # train_sign=impute_train[sign]\n",
    "    # val_sign=impute_val[sign]\n",
    "\n",
    "    # Scale the data\n",
    "    # scale_train, scale_val = scale_data(impute_train, impute_val, continuous_keys, ordinal_keys)\n",
    "\n",
    "    # Define classifiers\n",
    "    clf_RF_all = RandomForestClassifier()\n",
    "\n",
    "    # Implement wrapper feature selection\n",
    "    # sfs1 = sfs(clf_RF_all, k_features=5, forward= False, verbose = 1, scoring = 'neg_mean_squared_error')\n",
    "    # sfs2 = sfs1.fit(impute_train, label_train) # executing feature selection\n",
    "    # feat_names = list(sfs2.k_feature_names_)\n",
    "    # print(f'These are the chosen features for this fold: {feat_names}')\n",
    "    # Create and test three different models: random forest with all features, random forest with significant features only and support vector machine with only significant features\n",
    "    # Random forest with all features: create model\n",
    "    #tprs_RF_all, aucs_RF_all, auc_RF_all, spec_RF_all, sens_RF_all, accuracy_RF_all, gini_RF_all = pipeline_model(impute_train, label_train, impute_val, label_val, clf_RF_all, tprs_RF_all, aucs_RF_all, spec_RF_all, sens_RF_all, accuracy_RF_all, axis_RF_all)\n",
    "    tprs_RF_all, aucs_RF_all, auc_RF_all, spec_RF_all, sens_RF_all, accuracy_RF_all, gini_RF_all = pipeline_model(impute_train, label_train, impute_val, label_val, clf_RF_all, tprs_RF_all, aucs_RF_all, spec_RF_all, sens_RF_all, accuracy_RF_all, axis_RF_all)\n",
    "\n",
    "    # Random forest with significant features only: create model\n",
    "    #tprs_RF_all, aucs_RF_all, auc_RF_all, spec_RF_all, sens_RF_all, accuracy_RF_all, gini_RF_all = pipeline_model(impute_train[sign], label_train, impute_val[sign], label_val, clf_RF_all, tprs_RF_all, aucs_RF_all, spec_RF_all, sens_RF_all, accuracy_RF_all, axis_RF_all) # met alleen maar significante features (lagere scores)\n",
    "    # Random forest with all features: Calculate permutation feature importance\n",
    "    #result = permutation_importance(clf_RF_all, impute_val[sign], label_val, n_repeats=10, random_state=42, n_jobs=2) # met alleen maar significante features (lagere scores)\n",
    "    result = permutation_importance(clf_RF_all, impute_val, label_val, n_repeats=10, random_state=42, n_jobs=2) \n",
    "    # Create dataframe to store the results\n",
    "    #df_feature_importance = pd.DataFrame({'Feature': (list(impute_train[sign].columns)), 'Feature importance mean': result.importances_mean, 'Feature importance std': result.importances_std})\n",
    "    df_feature_importance = pd.DataFrame({'Feature': (list(impute_train.columns)), 'Feature importance mean': result.importances_mean, 'Feature importance std': result.importances_std}) # met alleen maar significante features (lagere scores)\n",
    "\n",
    "    # Sort dataframe with the most important features first. Keep only the 5 most important features with .head()\n",
    "    df_feature_importance_sorted = df_feature_importance.sort_values(by=['Feature importance mean'], ascending=False).head()\n",
    "    # Append dataframe to list per fold. The list consists of i dataframes for the number of folds, showing the best 5 features per fold. This dataframe can be used for visualization.\n",
    "    perm_importances_dfs.append(df_feature_importance_sorted)\n",
    "\n",
    "    print(f'This is fold {i}')\n"
   ]
  },
  {
   "cell_type": "code",
   "execution_count": 7,
   "metadata": {},
   "outputs": [
    {
     "name": "stdout",
     "output_type": "stream",
     "text": [
      "These are the relevant features ['Length', 'CKD-EPI eGFR', 'Leukocyten', 'GYN', 'Ureum', 'Kreatinine', 'Icterische index', 'Brief_URO', 'Psychofarmaca', 'Brief_GYN', 'GGZ', 'LDL-Cholesterol', 'RRdiast', '25-OH Vitamine D', 'Antacids', 'Calcium', 'HR', 'Hemolytische index', 'KIN', 'OOG', 'Brief_KHA', 'Brief_INT', 'KNO', 'RDW', 'ASAT', 'Brief_END', 'BMI', 'Anti-epileptics', 'Tot. Bilirubine', 'ALAT', 'Specialisms_hospitalization', 'RRsyst', 'Albumine']\n"
     ]
    }
   ],
   "source": [
    "# Now, create a dataframe with all duplicate features removed\n",
    "rel_features_df = pd.DataFrame()\n",
    "for fold in perm_importances_dfs:\n",
    "    rel_features_df = pd.concat([rel_features_df, fold])\n",
    "rel_features_df = rel_features_df.drop_duplicates(subset=['Feature'])\n",
    "# Make a list of the relevant features\n",
    "rel_features = rel_features_df['Feature'].tolist()\n",
    "print(f'These are the relevant features {rel_features}')\n",
    "# Next, create new dataframes of the training and test data with only these relevant features and preprocess the data)\n",
    "# Pre-processing steps\n",
    "# Impute data\n",
    "impute_train_rel, impute_test_rel = impute_data(train_data, test_data, df_decimal)\n",
    "# Imputed length and weight, now calculate BMI from that and delete weight again\n",
    "impute_train_rel['BMI'] = np.round(impute_train_rel['Weight']/((impute_train_rel['Length']/100)**2), decimals=2)\n",
    "impute_test_rel['BMI'] = np.round(impute_test_rel['Weight']/((impute_test_rel['Length']/100)**2), decimals=2)\n",
    "impute_train_rel = impute_train_rel.loc[:,impute_train_rel.columns!='Weight']\n",
    "impute_test_rel = impute_test_rel.loc[:,impute_test_rel.columns!='Weight']\n",
    "# Select only the relevant features\n",
    "impute_train_fin = impute_train_rel[rel_features]\n",
    "impute_test_fin = impute_test_rel[rel_features]\n",
    "\n",
    "# Scale the data\n",
    "scale_train_rel, scale_test_rel = scale_data(impute_train_rel, impute_test_rel, continuous_keys, ordinal_keys)\n",
    "# Again, only select the relevant features\n",
    "scale_train_fin = scale_train_rel[rel_features]\n",
    "scale_test_fin = scale_test_rel[rel_features]\n",
    "\n",
    "# Train a SVM and RF classifier using all the training data and validate on the remaining 10% of unseen data\n",
    "# Define classifiers\n",
    "clf_RF_fin = RandomForestClassifier()\n",
    "clf_SVM_fin = SVC()\n",
    "\n",
    "# Random forest with significant features only: create model\n",
    "tprs_RF_fin, aucs_RF_fin, auc_RF_fin, spec_RF_fin, sens_RF_fin, accuracy_RF_fin, gini_RF_fin = pipeline_model(impute_train_fin, train_label, impute_test_fin, test_label, clf_RF_fin, tprs_RF_fin, aucs_RF_fin, spec_RF_fin, sens_RF_fin, accuracy_RF_fin, axis_RF_fin)\n",
    "\n",
    "# Support vector machine with significant features only: create model with scaled data\n",
    "tprs_SVM_fin, aucs_SVM_fin, auc_SVM_fin, spec_SVM_fin, sens_SVM_fin, accuracy_SVM_fin, gini_SVM_fin = pipeline_model(scale_train_fin, train_label, scale_test_fin, test_label, clf_SVM_fin, tprs_SVM_fin, aucs_SVM_fin, spec_SVM_fin, sens_SVM_fin, accuracy_SVM_fin, axis_SVM_fin)\n",
    "\n"
   ]
  },
  {
   "cell_type": "code",
   "execution_count": 8,
   "metadata": {},
   "outputs": [
    {
     "name": "stdout",
     "output_type": "stream",
     "text": [
      "                                Accuracy Sensitivity Specificity  \\\n",
      "Model 1: Random Forest            [0.78]      [0.89]      [0.72]   \n",
      "Model 2: Support Vector Machine   [0.75]      [0.79]      [0.72]   \n",
      "\n",
      "                                Area under ROC-curve Gini index  \n",
      "Model 1: Random Forest                        [0.84]       0.69  \n",
      "Model 2: Support Vector Machine               [0.82]       0.63  \n"
     ]
    }
   ],
   "source": [
    "plt.show()\n",
    "\n",
    "# Create a dictionary of the scores for the two models. Create dataframe for visualisation.\n",
    "dict_scores = {'Model 1: Random Forest':[f'{np.round(accuracy_RF_fin, decimals = 2)}',\n",
    "                                        f'{np.round(sens_RF_fin, decimals=2)}',\n",
    "                                        f'{np.round(spec_RF_fin, decimals=2)}',\n",
    "                                        f'{np.round(aucs_RF_fin,decimals=2)}',\n",
    "                                        f'{np.round(gini_RF_fin,decimals=2)}'],\n",
    "            'Model 2: Support Vector Machine':[f'{np.round(accuracy_SVM_fin,decimals=2)}',\n",
    "                                        f'{np.round(sens_SVM_fin,decimals=2)}',\n",
    "                                        f'{np.round(spec_SVM_fin,decimals=2)}',\n",
    "                                        f'{np.round(aucs_SVM_fin,decimals=2)}',\n",
    "                                        f'{np.round(gini_SVM_fin,decimals=2)}']}\n",
    "\n",
    "df_scores = pd.DataFrame.from_dict(dict_scores, orient='index', columns=['Accuracy', 'Sensitivity', 'Specificity', 'Area under ROC-curve','Gini index'])\n",
    "\n",
    "print(df_scores)"
   ]
  }
 ],
 "metadata": {
  "interpreter": {
   "hash": "663b9696dab26d64d9477ea34de14949924433e819fd66ff05907bea861f185b"
  },
  "kernelspec": {
   "display_name": "Python 3.8.5 64-bit ('base': conda)",
   "language": "python",
   "name": "python3"
  },
  "language_info": {
   "codemirror_mode": {
    "name": "ipython",
    "version": 3
   },
   "file_extension": ".py",
   "mimetype": "text/x-python",
   "name": "python",
   "nbconvert_exporter": "python",
   "pygments_lexer": "ipython3",
   "version": "3.8.5"
  },
  "orig_nbformat": 4
 },
 "nbformat": 4,
 "nbformat_minor": 2
}
